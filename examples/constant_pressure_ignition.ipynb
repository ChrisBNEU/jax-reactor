{
 "cells": [
  {
   "cell_type": "code",
   "execution_count": 1,
   "metadata": {},
   "outputs": [
    {
     "name": "stdout",
     "output_type": "stream",
     "text": [
      "Using jax: 0.1.66\n",
      "Using jaxlib: 0.1.47\n",
      "Using cantera: 2.5.0a3\n"
     ]
    }
   ],
   "source": [
    "import jax\n",
    "import jaxlib\n",
    "import jax.numpy as np\n",
    "import numpy as onp\n",
    "import cantera as ct\n",
    "from scipy.integrate import solve_ivp\n",
    "from functools import partial\n",
    "from jax.config import config\n",
    "config.update(\"jax_enable_x64\", True)\n",
    "print(f\"Using jax: {jax.__version__}\")\n",
    "print(f\"Using jaxlib: {jaxlib.__version__}\")\n",
    "print(f\"Using cantera: {ct.__version__}\")"
   ]
  },
  {
   "cell_type": "code",
   "execution_count": 2,
   "metadata": {},
   "outputs": [],
   "source": [
    "#jax reactor\n",
    "from jax_reactor import kinetics, thermo, solution, dataclass"
   ]
  },
  {
   "cell_type": "markdown",
   "metadata": {},
   "source": [
    "# Use Cantera to set up simulation"
   ]
  },
  {
   "cell_type": "code",
   "execution_count": null,
   "metadata": {},
   "outputs": [],
   "source": [
    "gas = ct.Solution('gri30.yaml')"
   ]
  },
  {
   "cell_type": "code",
   "execution_count": null,
   "metadata": {},
   "outputs": [],
   "source": [
    "#Global parameters \n",
    "T = 1001.\n",
    "P = ct.one_atm\n",
    "R = ct.gas_constant\n",
    "X = 'H2:2,O2:1,N2:4'"
   ]
  },
  {
   "cell_type": "code",
   "execution_count": null,
   "metadata": {},
   "outputs": [],
   "source": [
    "gas.TPX = T, P, X"
   ]
  },
  {
   "cell_type": "markdown",
   "metadata": {},
   "source": [
    "# Get  initial mole fractions (Y) and gas_info as namedtuple"
   ]
  },
  {
   "cell_type": "code",
   "execution_count": null,
   "metadata": {},
   "outputs": [],
   "source": [
    "Y, gas_info = solution.get_initial_mole_fractions_and_state('gri30.yaml',T, P, X)"
   ]
  },
  {
   "cell_type": "markdown",
   "metadata": {},
   "source": [
    "# Get NASA polynomials, kinetics parameters from YAML "
   ]
  },
  {
   "cell_type": "code",
   "execution_count": null,
   "metadata": {},
   "outputs": [],
   "source": [
    "yaml_file = '/home/sirumalla.s/Code/cantera/data/gri30.yaml'\n",
    "mechanism_dict = dataclass.load_yaml(yaml_file)\n",
    "nasa_poly = dataclass.get_nasa_polynomials_from_yaml(mechanism_dict)\n",
    "kinetics_coeffs, kinetics_data =  dataclass.get_kinetic_parameters_from_yaml(mechanism_dict, gas)"
   ]
  },
  {
   "cell_type": "markdown",
   "metadata": {},
   "source": [
    "# Get dYdt "
   ]
  },
  {
   "cell_type": "code",
   "execution_count": null,
   "metadata": {},
   "outputs": [],
   "source": [
    "#use partial to hoist all parameters so we get a function of type f(t,y) for solve_ivp\n",
    "get_dYdt_with_options=partial(solution.get_dYdt, P, R, gas_info, nasa_poly, kinetics_coeffs, kinetics_data)"
   ]
  },
  {
   "cell_type": "code",
   "execution_count": null,
   "metadata": {},
   "outputs": [],
   "source": [
    "#JIT the function\n",
    "jitted_get_dYdt_with_options = jax.jit(get_dYdt_with_options)"
   ]
  },
  {
   "cell_type": "code",
   "execution_count": null,
   "metadata": {},
   "outputs": [],
   "source": [
    "def get_dYdt_onp(t, state_vec):\n",
    "    dYdt = jitted_get_dYdt_with_options(t,state_vec)\n",
    "    return onp.asarray(dYdt,dtype=onp.float64)"
   ]
  },
  {
   "cell_type": "markdown",
   "metadata": {},
   "source": [
    "# Get Jacobian using forward mode automatic differentiation"
   ]
  },
  {
   "cell_type": "code",
   "execution_count": null,
   "metadata": {},
   "outputs": [],
   "source": [
    "jac_fwd = jax.jacfwd(get_dYdt_with_options,(1,)) # fwd mode jacobian w.r.t to 2nd arguement(state_vec)\n",
    "jit_jac_fwd = jax.jit(jac_fwd)"
   ]
  },
  {
   "cell_type": "code",
   "execution_count": null,
   "metadata": {},
   "outputs": [],
   "source": [
    "def get_jac_onp(t, state_vec):\n",
    "    jac = jit_jac_fwd(t,state_vec)\n",
    "    return onp.asarray(jac[0],dtype=onp.float64)"
   ]
  },
  {
   "cell_type": "markdown",
   "metadata": {},
   "source": [
    "# Initial Conditions"
   ]
  },
  {
   "cell_type": "code",
   "execution_count": null,
   "metadata": {},
   "outputs": [],
   "source": [
    "Y0 = np.hstack((T, Y))"
   ]
  },
  {
   "cell_type": "markdown",
   "metadata": {},
   "source": [
    "# Integrate and save results "
   ]
  },
  {
   "cell_type": "code",
   "execution_count": null,
   "metadata": {},
   "outputs": [],
   "source": [
    "t = 0\n",
    "t_end = 1e-3\n",
    "states_jax = ct.SolutionArray(gas, 1, extra={'t': [0.0]})\n",
    "dt = 1e-5\n",
    "ode_success = True\n",
    "y = Y0\n",
    "while ode_success and t < t_end:\n",
    "    odesol = solve_ivp(get_dYdt_onp,\n",
    "                       t_span=(t, t + dt),\n",
    "                       y0=y,\n",
    "                       method='BDF',\n",
    "                       jac=get_jac_onp)\n",
    "    t = odesol.t[-1]\n",
    "    y = np.array(odesol.y[:, -1],dtype=np.float64)\n",
    "    ode_success = odesol.success\n",
    "    gas.TPY = odesol.y[0, -1], P , odesol.y[1:, -1]\n",
    "    states_jax.append(gas.state, t=t)"
   ]
  },
  {
   "cell_type": "markdown",
   "metadata": {},
   "source": [
    "# Now solve it using Cantera"
   ]
  },
  {
   "cell_type": "code",
   "execution_count": null,
   "metadata": {},
   "outputs": [],
   "source": [
    "ct_gas = ct.Solution('gri30.yaml')\n",
    "ct_gas.TPX = T, P, X"
   ]
  },
  {
   "cell_type": "markdown",
   "metadata": {},
   "source": [
    "## Adapted from Cantera's official examples\n",
    "https://cantera.org/examples/python/reactors/custom.py.html"
   ]
  },
  {
   "cell_type": "code",
   "execution_count": null,
   "metadata": {},
   "outputs": [],
   "source": [
    "class ReactorOde(object):\n",
    "    def __init__(self, gas):\n",
    "        # Parameters of the ODE system and auxiliary data are stored in the\n",
    "        # ReactorOde object.\n",
    "        self.gas = gas\n",
    "        self.P = gas.P\n",
    "\n",
    "    def __call__(self, t, y):\n",
    "        \"\"\"the ODE function, y' = f(t,y) \"\"\"\n",
    "\n",
    "        # State vector is [T, Y_1, Y_2, ... Y_K]\n",
    "        self.gas.set_unnormalized_mass_fractions(y[1:])\n",
    "        self.gas.TP = y[0], self.P\n",
    "        rho = self.gas.density\n",
    "        #print(f'rho \\t {rho}')\n",
    "        wdot = self.gas.net_production_rates\n",
    "        #print(f'wdot \\t {wdot}')\n",
    "        dTdt = - (onp.dot(self.gas.partial_molar_enthalpies, wdot) /\n",
    "                  (rho * self.gas.cp))\n",
    "        #print(f'partial molar enthalpies \\t {partial_molar_enthalpies}')\n",
    "        dYdt = wdot * self.gas.molecular_weights / rho\n",
    "\n",
    "        return onp.hstack((dTdt, dYdt))"
   ]
  },
  {
   "cell_type": "code",
   "execution_count": null,
   "metadata": {},
   "outputs": [],
   "source": [
    "ct_ode = ReactorOde(ct_gas)"
   ]
  },
  {
   "cell_type": "code",
   "execution_count": null,
   "metadata": {},
   "outputs": [],
   "source": [
    "y0 = onp.hstack((ct_gas.T,ct_gas.Y))"
   ]
  },
  {
   "cell_type": "code",
   "execution_count": null,
   "metadata": {},
   "outputs": [],
   "source": [
    "t_end = 1e-3\n",
    "states = ct.SolutionArray(ct_gas, 1, extra={'t': [0.0]})\n",
    "dt = 1e-5\n",
    "t = 0\n",
    "ode_success = True\n",
    "y = y0\n",
    "while ode_success and t < t_end:\n",
    "    odesol = solve_ivp(ct_ode,\n",
    "                       t_span=(t, t + dt),\n",
    "                       y0=y,\n",
    "                       method='BDF',\n",
    "                       vectorized=False, jac=None)\n",
    "\n",
    "    t = odesol.t[-1]\n",
    "    y = odesol.y[:, -1]\n",
    "    ode_success = odesol.success\n",
    "    ct_gas.TPY = odesol.y[0, -1], ct.one_atm, odesol.y[1:, -1]\n",
    "    states.append(ct_gas.state, t=t)"
   ]
  },
  {
   "cell_type": "markdown",
   "metadata": {},
   "source": [
    "# Now compare results"
   ]
  },
  {
   "cell_type": "code",
   "execution_count": null,
   "metadata": {},
   "outputs": [],
   "source": [
    "import matplotlib.pyplot as plt"
   ]
  },
  {
   "cell_type": "code",
   "execution_count": null,
   "metadata": {},
   "outputs": [],
   "source": [
    "fig = plt.figure(figsize=(6,6),dpi=150)\n",
    "L1 = plt.plot(states.t, states.T, ls='--', color='r', label='T Cantera', lw=1)\n",
    "L1_rt = plt.plot(states_jax.t, states_jax.T, ls='-',\n",
    "                 color='r', label='T JAX', lw=2)\n",
    "plt.xlabel('time (s)')\n",
    "plt.ylabel('Temperature (K)')\n",
    "\n",
    "plt.twinx()\n",
    "L2 = plt.plot(states.t, states('OH').Y, ls='--', label='OH Cantera', lw=1)\n",
    "L2_rt = plt.plot(states_jax.t, states_jax(\n",
    "    'OH').Y, ls='-', label='OH JAX', lw=1)\n",
    "plt.ylabel('Mass Fraction')\n",
    "\n",
    "plt.legend(L1+L2+L1_rt+L2_rt, [line.get_label()\n",
    "                               for line in L1+L2+L1_rt+L2_rt], loc='lower right')\n",
    "plt.show()"
   ]
  }
 ],
 "metadata": {
  "kernelspec": {
   "display_name": "Python 3",
   "language": "python",
   "name": "python3"
  },
  "language_info": {
   "codemirror_mode": {
    "name": "ipython",
    "version": 3
   },
   "file_extension": ".py",
   "mimetype": "text/x-python",
   "name": "python",
   "nbconvert_exporter": "python",
   "pygments_lexer": "ipython3",
   "version": "3.7.6"
  }
 },
 "nbformat": 4,
 "nbformat_minor": 4
}
