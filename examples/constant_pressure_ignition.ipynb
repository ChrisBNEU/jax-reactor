{
 "cells": [
  {
   "cell_type": "code",
   "execution_count": 1,
   "metadata": {
    "tags": []
   },
   "outputs": [
    {
     "name": "stdout",
     "output_type": "stream",
     "text": [
      "Using jax: 0.1.66\n",
      "Using jaxlib: 0.1.47\n",
      "Using cantera: 2.5.0a3\n"
     ]
    }
   ],
   "source": [
    "import jax\n",
    "import jaxlib\n",
    "import jax.numpy as np\n",
    "import numpy as onp\n",
    "import cantera as ct\n",
    "import scipy\n",
    "import os\n",
    "from scipy.integrate import solve_ivp\n",
    "from functools import partial\n",
    "from jax.config import config\n",
    "config.update(\"jax_enable_x64\", True)\n",
    "print(f\"Using jax: {jax.__version__}\")\n",
    "print(f\"Using jaxlib: {jaxlib.__version__}\")\n",
    "print(f\"Using cantera: {ct.__version__}\")"
   ]
  },
  {
   "cell_type": "code",
   "execution_count": 2,
   "metadata": {},
   "outputs": [],
   "source": [
    "#jax reactor\n",
    "from jax_reactor import kinetics, thermo, solution, dataclass"
   ]
  },
  {
   "cell_type": "markdown",
   "metadata": {},
   "source": [
    "# Use Cantera to set up simulation"
   ]
  },
  {
   "cell_type": "code",
   "execution_count": 3,
   "metadata": {},
   "outputs": [],
   "source": [
    "gas = ct.Solution('gri30.yaml')"
   ]
  },
  {
   "cell_type": "code",
   "execution_count": 4,
   "metadata": {},
   "outputs": [],
   "source": [
    "#Global parameters \n",
    "T = 1001.\n",
    "P = ct.one_atm\n",
    "R = ct.gas_constant\n",
    "X = 'H2:2,O2:1,N2:4'"
   ]
  },
  {
   "cell_type": "code",
   "execution_count": 5,
   "metadata": {},
   "outputs": [],
   "source": [
    "gas.TPX = T, P, X"
   ]
  },
  {
   "cell_type": "markdown",
   "metadata": {},
   "source": [
    "# Get  initial mole fractions (Y) and gas_info as namedtuple"
   ]
  },
  {
   "cell_type": "code",
   "execution_count": 6,
   "metadata": {},
   "outputs": [],
   "source": [
    "Y, gas_info = solution.get_initial_mole_fractions_and_state('gri30.yaml',T, P, X)"
   ]
  },
  {
   "cell_type": "markdown",
   "metadata": {},
   "source": [
    "# Get NASA polynomials, kinetics parameters from YAML "
   ]
  },
  {
   "cell_type": "code",
   "execution_count": 7,
   "metadata": {},
   "outputs": [],
   "source": [
    "yaml_file = os.path.expanduser('~/Code/cantera/data/gri30.yaml')\n",
    "mechanism_dict = dataclass.load_yaml(yaml_file)\n",
    "nasa_poly = dataclass.get_nasa_polynomials_from_yaml(mechanism_dict)\n",
    "kinetics_coeffs, kinetics_data =  dataclass.get_kinetic_parameters_from_yaml(mechanism_dict, gas)"
   ]
  },
  {
   "cell_type": "markdown",
   "metadata": {},
   "source": [
    "# Get dYdt "
   ]
  },
  {
   "cell_type": "code",
   "execution_count": 8,
   "metadata": {},
   "outputs": [],
   "source": [
    "#use partial to hoist all parameters so we get a function of type f(t,y) for solve_ivp\n",
    "get_dYdt_with_options=partial(solution.get_dYdt, P, R, gas_info, nasa_poly, kinetics_coeffs, kinetics_data)"
   ]
  },
  {
   "cell_type": "code",
   "execution_count": 9,
   "metadata": {},
   "outputs": [],
   "source": [
    "#JIT the function\n",
    "jitted_get_dYdt_with_options = jax.jit(get_dYdt_with_options)"
   ]
  },
  {
   "cell_type": "markdown",
   "metadata": {},
   "source": [
    "# Get Jacobian using forward mode automatic differentiation"
   ]
  },
  {
   "cell_type": "code",
   "execution_count": 10,
   "metadata": {},
   "outputs": [],
   "source": [
    "jac_fwd = jax.jacfwd(get_dYdt_with_options,(1,)) # fwd mode jacobian w.r.t to 2nd arguement(state_vec)\n",
    "jit_jac_fwd = jax.jit(jac_fwd)"
   ]
  },
  {
   "cell_type": "code",
   "execution_count": 11,
   "metadata": {},
   "outputs": [],
   "source": [
    "def get_jac(t, state_vec):\n",
    "    jac = jit_jac_fwd(t,state_vec)\n",
    "    return jac[0]"
   ]
  },
  {
   "cell_type": "markdown",
   "metadata": {},
   "source": [
    "# Initial Conditions"
   ]
  },
  {
   "cell_type": "code",
   "execution_count": 12,
   "metadata": {},
   "outputs": [],
   "source": [
    "Y0 = np.hstack((T, Y))"
   ]
  },
  {
   "cell_type": "markdown",
   "metadata": {},
   "source": [
    "# Use JAX based BDF solver to integrate and save results "
   ]
  },
  {
   "cell_type": "code",
   "execution_count": 13,
   "metadata": {},
   "outputs": [],
   "source": [
    "from jax_reactor.solver.bdf import bdf_solve"
   ]
  },
  {
   "cell_type": "code",
   "execution_count": 14,
   "metadata": {},
   "outputs": [],
   "source": [
    "def lax_scan_to_end_time(ode_fn, jacobian_fn, initial_state, ts, dt):\n",
    "    \n",
    "    def scan_fun(carry, target_t):\n",
    "    \n",
    "        def cond_fn(_state):\n",
    "            i, _, current_time, success = _state\n",
    "            return (current_time<target_t) & success\n",
    "\n",
    "        def step(_state):\n",
    "            i, current_state, current_time, _ = _state\n",
    "            results = bdf_solve(ode_fn,\n",
    "                            current_time,\n",
    "                            current_state,\n",
    "                            np.array([current_time, current_time+dt]),\n",
    "                            jacobian_fn)\n",
    "            next_state = results.states[-1]\n",
    "            next_time = results.times[-1]\n",
    "            success = np.equal(results.diagnostics.status,0)\n",
    "            return [i+1, next_state, next_time, success]\n",
    "    \n",
    "        _,*carry = jax.lax.while_loop(cond_fn, step, [0]+carry) \n",
    "        y_target, _, _ = carry\n",
    "        return carry, y_target\n",
    "    \n",
    "    \n",
    "    init_carry = [initial_state, 0.0, True]\n",
    "    \n",
    "    _, ys = jax.lax.scan(scan_fun, init_carry, ts[1:])\n",
    "    \n",
    "    return np.concatenate((initial_state[None],ys))\n",
    "        "
   ]
  },
  {
   "cell_type": "code",
   "execution_count": 15,
   "metadata": {},
   "outputs": [],
   "source": [
    "jitted_scan_to_end_time = jax.jit(lax_scan_to_end_time, static_argnums=(0,1))"
   ]
  },
  {
   "cell_type": "markdown",
   "metadata": {},
   "source": [
    "# Integrate to end_time using JAX control flow"
   ]
  },
  {
   "cell_type": "code",
   "execution_count": 16,
   "metadata": {},
   "outputs": [],
   "source": [
    "ts = np.arange(0.0, 1e-3,1e-5)\n",
    "ys = lax_scan_to_end_time(jitted_get_dYdt_with_options, get_jac, Y0, ts, 1e-5)"
   ]
  },
  {
   "cell_type": "markdown",
   "metadata": {},
   "source": [
    "# Now solve it using Cantera"
   ]
  },
  {
   "cell_type": "code",
   "execution_count": 17,
   "metadata": {},
   "outputs": [],
   "source": [
    "ct_gas = ct.Solution('gri30.yaml')\n",
    "ct_gas.TPX = T, P, X"
   ]
  },
  {
   "cell_type": "markdown",
   "metadata": {},
   "source": [
    "## Adapted from Cantera's official examples\n",
    "https://cantera.org/examples/python/reactors/custom.py.html"
   ]
  },
  {
   "cell_type": "code",
   "execution_count": 18,
   "metadata": {},
   "outputs": [],
   "source": [
    "class ReactorOde(object):\n",
    "    def __init__(self, gas):\n",
    "        # Parameters of the ODE system and auxiliary data are stored in the\n",
    "        # ReactorOde object.\n",
    "        self.gas = gas\n",
    "        self.P = gas.P\n",
    "\n",
    "    def __call__(self, t, y):\n",
    "        \"\"\"the ODE function, y' = f(t,y) \"\"\"\n",
    "\n",
    "        # State vector is [T, Y_1, Y_2, ... Y_K]\n",
    "        self.gas.set_unnormalized_mass_fractions(y[1:])\n",
    "        self.gas.TP = y[0], self.P\n",
    "        rho = self.gas.density\n",
    "        wdot = self.gas.net_production_rates\n",
    "        dTdt = - (onp.dot(self.gas.partial_molar_enthalpies, wdot) /\n",
    "                  (rho * self.gas.cp))\n",
    "        dYdt = wdot * self.gas.molecular_weights / rho\n",
    "\n",
    "        return onp.hstack((dTdt, dYdt))"
   ]
  },
  {
   "cell_type": "code",
   "execution_count": 19,
   "metadata": {},
   "outputs": [],
   "source": [
    "y0 = onp.hstack((ct_gas.T,ct_gas.Y))"
   ]
  },
  {
   "cell_type": "code",
   "execution_count": 20,
   "metadata": {},
   "outputs": [],
   "source": [
    "# Set up objects representing the ODE and the solver\n",
    "#the SciPy wrapper for VODE is used, which uses the same variable-order BDF\n",
    "#methods as the Sundials CVODES solver used by Cantera.\n",
    "ode = ReactorOde(ct_gas)\n",
    "solver = scipy.integrate.ode(ode)\n",
    "solver.set_integrator('vode', method='bdf', with_jacobian=True, atol=1e-10, rtol=1e-6)\n",
    "solver.set_initial_value(y0, 0.0)\n",
    "\n",
    "# Integrate the equations, keeping T(t) and Y(k,t)\n",
    "t_end = 1e-3\n",
    "states = ct.SolutionArray(ct_gas, 1, extra={'t': [0.0]})\n",
    "dt = 1e-5\n",
    "while solver.successful() and solver.t < t_end:\n",
    "    solver.integrate(solver.t + dt)\n",
    "    ct_gas.TPY = solver.y[0], P, solver.y[1:]\n",
    "    states.append(ct_gas.state, t=solver.t)"
   ]
  },
  {
   "cell_type": "markdown",
   "metadata": {},
   "source": [
    "# Now compare results"
   ]
  },
  {
   "cell_type": "code",
   "execution_count": 21,
   "metadata": {},
   "outputs": [],
   "source": [
    "import matplotlib.pyplot as plt"
   ]
  },
  {
   "cell_type": "code",
   "execution_count": 22,
   "metadata": {},
   "outputs": [
    {
     "data": {
      "image/png": "[encoded data removed]",
      "text/plain": [
       "<Figure size 600x600 with 2 Axes>"
      ]
     },
     "metadata": {
      "needs_background": "light"
     },
     "output_type": "display_data"
    }
   ],
   "source": [
    "fig = plt.figure(figsize=(6,6),dpi=100)\n",
    "L1 = plt.plot(states.t, states.T, ls='--', color='r', label='T Cantera', lw=1)\n",
    "L1_rt = plt.plot(onp.asarray(ts), onp.asarray(ys[:,0]), ls='-',\n",
    "                 color='r', label='T JAX', lw=2)\n",
    "plt.xlabel('time (s)')\n",
    "plt.ylabel('Temperature (K)')\n",
    "\n",
    "plt.twinx()\n",
    "L2 = plt.plot(states.t, states('OH').Y, ls='--', label='OH Cantera', lw=1)\n",
    "L2_rt = plt.plot(onp.asarray(ts), onp.asarray(ys[:,gas.species_index('OH')+1]), ls='-', label='OH JAX', lw=1)\n",
    "plt.ylabel('Mass Fraction')\n",
    "\n",
    "plt.legend(L1+L2+L1_rt+L2_rt, [line.get_label()\n",
    "                               for line in L1+L2+L1_rt+L2_rt], loc='lower right')\n",
    "plt.show()"
   ]
  },
  {
   "cell_type": "code",
   "execution_count": null,
   "metadata": {},
   "outputs": [],
   "source": []
  }
 ],
 "metadata": {
  "kernelspec": {
   "display_name": "Python 3",
   "language": "python",
   "name": "python3"
  },
  "language_info": {
   "codemirror_mode": {
    "name": "ipython",
    "version": 3
   },
   "file_extension": ".py",
   "mimetype": "text/x-python",
   "name": "python",
   "nbconvert_exporter": "python",
   "pygments_lexer": "ipython3",
   "version": "3.7.6"
  }
 },
 "nbformat": 4,
 "nbformat_minor": 4
}
